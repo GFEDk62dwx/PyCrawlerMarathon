{
 "cells": [
  {
   "cell_type": "markdown",
   "metadata": {},
   "source": [
    "# Python 下載XML檔案與解析\n",
    "\n",
    "\n",
    "* 了解 xml 檔案格式與內容\n",
    "* 能夠利用套件存取 xml 格式的檔案\n"
   ]
  },
  {
   "cell_type": "markdown",
   "metadata": {},
   "source": [
    "## 作業目標\n",
    "\n",
    "* 比較一下範例檔案中的「File I/O」與「xmltodict」讀出來的內容有什麼差異\n",
    "\n",
    "* 根據範例檔案的結果：\n",
    "    1. 請問高雄市有多少地區有溫度資料？\n",
    "    2. 請取出每一個地區所記錄的第一個時間點跟溫度\n",
    "    3. 請取出第一個地區所記錄的每一個時間點跟溫度"
   ]
  },
  {
   "cell_type": "markdown",
   "metadata": {},
   "source": [
    "### 比較一下範例檔案中的「File I/O」與「xmltodict」讀出來的內容有什麼差異\n"
   ]
  },
  {
   "cell_type": "code",
   "execution_count": null,
   "metadata": {},
   "outputs": [],
   "source": [
    "'''\n",
    "File I/O    只將是檔案內容讀出\n",
    "xmltodict   可以放到一個dict裡，可以讀取元素，屬性以及值，還支援轉換json跟反轉換xml\n",
    "\n",
    "'''"
   ]
  },
  {
   "cell_type": "markdown",
   "metadata": {},
   "source": [
    "### 根據範例檔案的結果：\n",
    "\n",
    "1. 請問高雄市有多少地區有溫度資料？\n",
    "2. 請取出每一個地區所記錄的第一個時間點跟溫度\n",
    "3. 請取出第一個地區所記錄的每一個時間點跟溫度"
   ]
  },
  {
   "cell_type": "code",
   "execution_count": 20,
   "metadata": {},
   "outputs": [],
   "source": [
    "# 1. 請問高雄市有多少地區有溫度資料？\n",
    "\n",
    "# xmltodict\n",
    "import xmltodict\n",
    "import urllib.request\n",
    "import zipfile\n",
    "import ssl\n",
    "\n",
    "ctx = ssl.create_default_context()\n",
    "ctx.check_hostname = False\n",
    "ctx.verify_mode = ssl.CERT_NONE\n",
    "\n",
    "file_name=\"F-D0047-065_20200622.xml\"\n",
    "url_string = \"https://opendata.cwb.gov.tw/api/v1/rest/datastore/F-D0047-065?Authorization={ApiToken}&format=XML\"\n",
    "#urllib.request.urlretrieve(res, \"./H3_Data/F-D0047-065_20200622.zip\", context=ctx)\n",
    "#f = zipfile.ZipFile('./H3_Data/F-D0047-065_20200622.zip')\n",
    "#f.extractall('./data')\n",
    "\n",
    "with urllib.request.urlopen(url_string, context=ctx) as u, open(file_name, 'wb') as f:\n",
    "    f.write(u.read())\n"
   ]
  },
  {
   "cell_type": "code",
   "execution_count": 38,
   "metadata": {},
   "outputs": [
    {
     "name": "stdout",
     "output_type": "stream",
     "text": [
      "38\n"
     ]
    }
   ],
   "source": [
    "# 讀檔案\n",
    "fh = open(file_name, \"r\",encoding=\"utf-8\")\n",
    "xml = fh.read()\n",
    "fh.close()\n",
    "\n",
    "d = dict(xmltodict.parse(xml))\n",
    "locationList = d['dataset']['records']['locations']['location']\n",
    "print(len(locationList))\n"
   ]
  },
  {
   "cell_type": "code",
   "execution_count": 61,
   "metadata": {},
   "outputs": [
    {
     "name": "stdout",
     "output_type": "stream",
     "text": [
      "12小時降雨機率\n",
      "0 --> 新興區,2020-06-22 00:00:00,2020-06-22 12:00:00,40%\n",
      "1 --> 梓官區,2020-06-22 00:00:00,2020-06-22 12:00:00,40%\n",
      "2 --> 三民區,2020-06-22 00:00:00,2020-06-22 12:00:00,40%\n",
      "3 --> 楠梓區,2020-06-22 00:00:00,2020-06-22 12:00:00,30%\n",
      "4 --> 左營區,2020-06-22 00:00:00,2020-06-22 12:00:00,30%\n",
      "5 --> 鼓山區,2020-06-22 00:00:00,2020-06-22 12:00:00,40%\n",
      "6 --> 鹽埕區,2020-06-22 00:00:00,2020-06-22 12:00:00,40%\n",
      "7 --> 燕巢區,2020-06-22 00:00:00,2020-06-22 12:00:00,40%\n",
      "8 --> 田寮區,2020-06-22 00:00:00,2020-06-22 12:00:00,40%\n",
      "9 --> 阿蓮區,2020-06-22 00:00:00,2020-06-22 12:00:00,40%\n",
      "10 --> 路竹區,2020-06-22 00:00:00,2020-06-22 12:00:00,40%\n",
      "11 --> 湖內區,2020-06-22 00:00:00,2020-06-22 12:00:00,40%\n",
      "12 --> 前鎮區,2020-06-22 00:00:00,2020-06-22 12:00:00,40%\n",
      "13 --> 茄萣區,2020-06-22 00:00:00,2020-06-22 12:00:00,40%\n",
      "14 --> 苓雅區,2020-06-22 00:00:00,2020-06-22 12:00:00,40%\n",
      "15 --> 永安區,2020-06-22 00:00:00,2020-06-22 12:00:00,40%\n",
      "16 --> 前金區,2020-06-22 00:00:00,2020-06-22 12:00:00,40%\n",
      "17 --> 彌陀區,2020-06-22 00:00:00,2020-06-22 12:00:00,40%\n",
      "18 --> 旗山區,2020-06-22 00:00:00,2020-06-22 12:00:00,40%\n",
      "19 --> 美濃區,2020-06-22 00:00:00,2020-06-22 12:00:00,20%\n",
      "20 --> 鳥松區,2020-06-22 00:00:00,2020-06-22 12:00:00,40%\n",
      "21 --> 岡山區,2020-06-22 00:00:00,2020-06-22 12:00:00,40%\n",
      "22 --> 大樹區,2020-06-22 00:00:00,2020-06-22 12:00:00,40%\n",
      "23 --> 大寮區,2020-06-22 00:00:00,2020-06-22 12:00:00,40%\n",
      "24 --> 林園區,2020-06-22 00:00:00,2020-06-22 12:00:00,40%\n",
      "25 --> 鳳山區,2020-06-22 00:00:00,2020-06-22 12:00:00,30%\n",
      "26 --> 小港區,2020-06-22 00:00:00,2020-06-22 12:00:00,40%\n",
      "27 --> 旗津區,2020-06-22 00:00:00,2020-06-22 12:00:00,40%\n",
      "28 --> 六龜區,2020-06-22 00:00:00,2020-06-22 12:00:00,30%\n",
      "29 --> 甲仙區,2020-06-22 00:00:00,2020-06-22 12:00:00,30%\n",
      "30 --> 杉林區,2020-06-22 00:00:00,2020-06-22 12:00:00,40%\n",
      "31 --> 內門區,2020-06-22 00:00:00,2020-06-22 12:00:00,40%\n",
      "32 --> 茂林區,2020-06-22 00:00:00,2020-06-22 12:00:00,20%\n",
      "33 --> 桃源區,2020-06-22 00:00:00,2020-06-22 12:00:00,30%\n",
      "34 --> 大社區,2020-06-22 00:00:00,2020-06-22 12:00:00,30%\n",
      "35 --> 那瑪夏區,2020-06-22 00:00:00,2020-06-22 12:00:00,20%\n",
      "36 --> 仁武區,2020-06-22 00:00:00,2020-06-22 12:00:00,40%\n",
      "37 --> 橋頭區,2020-06-22 00:00:00,2020-06-22 12:00:00,40%\n"
     ]
    }
   ],
   "source": [
    "# 2. 請取出每一個地區所記錄的第一個時間點跟溫度\n",
    "\n",
    "print(locationList[0]['weatherElement'][0]['description'])\n",
    "for i, data in enumerate(locationList):\n",
    "    print(i, '-->', data['locationName'] \n",
    "          +','+ data['weatherElement'][0]['time'][0]['startTime']\n",
    "          +','+ data['weatherElement'][0]['time'][0]['endTime']\n",
    "          +','+ data['weatherElement'][0]['time'][0]['elementValue']['value']+\"%\"\n",
    "         )\n",
    "\n"
   ]
  },
  {
   "cell_type": "code",
   "execution_count": 70,
   "metadata": {},
   "outputs": [
    {
     "name": "stdout",
     "output_type": "stream",
     "text": [
      "新興區\n",
      "12小時降雨機率\n",
      "0 --> 2020-06-22 00:00:00,2020-06-22 12:00:00,40%\n",
      "1 --> 2020-06-22 12:00:00,2020-06-23 00:00:00,20%\n",
      "2 --> 2020-06-23 00:00:00,2020-06-23 12:00:00,50%\n",
      "3 --> 2020-06-23 12:00:00,2020-06-24 00:00:00,40%\n",
      "4 --> 2020-06-24 00:00:00,2020-06-24 12:00:00,60%\n",
      "5 --> 2020-06-24 12:00:00,2020-06-25 00:00:00,20%\n"
     ]
    }
   ],
   "source": [
    "# 3. 請取出第一個地區所記錄的每一個時間點跟溫度\n",
    "\n",
    "print(locationList[0]['locationName'])\n",
    "print(locationList[0]['weatherElement'][0]['description'])\n",
    "firstLocation = locationList[0]['weatherElement'][0]['time'];\n",
    "#print(firstLocation)\n",
    "\n",
    "for i, data in enumerate(firstLocation):\n",
    "    print(i, '-->', data['startTime'] +','+ data['endTime']+','+ data['elementValue']['value']+\"%\")"
   ]
  },
  {
   "cell_type": "code",
   "execution_count": null,
   "metadata": {},
   "outputs": [],
   "source": []
  }
 ],
 "metadata": {
  "kernelspec": {
   "display_name": "Python 3",
   "language": "python",
   "name": "python3"
  },
  "language_info": {
   "codemirror_mode": {
    "name": "ipython",
    "version": 3
   },
   "file_extension": ".py",
   "mimetype": "text/x-python",
   "name": "python",
   "nbconvert_exporter": "python",
   "pygments_lexer": "ipython3",
   "version": "3.7.6"
  }
 },
 "nbformat": 4,
 "nbformat_minor": 2
}

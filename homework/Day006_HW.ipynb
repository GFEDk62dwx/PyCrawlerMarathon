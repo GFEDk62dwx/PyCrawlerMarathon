{
 "cells": [
  {
   "cell_type": "markdown",
   "metadata": {},
   "source": [
    "# API 資料串接 - 以 知乎 API 實作範例\n",
    "\n",
    "\n",
    "\n",
    "* 了解知乎 API 使用方式與回傳內容\n",
    "* 撰寫程式存取 API 且添加標頭\n",
    "\n",
    "\n"
   ]
  },
  {
   "cell_type": "markdown",
   "metadata": {},
   "source": [
    "## 作業目標\n",
    "\n",
    "* 根據範例提供的 API ，完成以下問題：\n",
    "\n",
    "    1. 取出知乎問題發問時間\n",
    "    2. 取出第一筆與最後一筆回答的時間\n"
   ]
  },
  {
   "cell_type": "markdown",
   "metadata": {},
   "source": [
    "### 1. 取出知乎問題發問時間"
   ]
  },
  {
   "cell_type": "code",
   "execution_count": 9,
   "metadata": {},
   "outputs": [
    {
     "name": "stdout",
     "output_type": "stream",
     "text": [
      "1486390229\n",
      "2017-02-06 22:10:29\n"
     ]
    }
   ],
   "source": [
    "# 1. 取出知乎問題發問時間\n",
    "import json\n",
    "import requests\n",
    "#補充: Timestamp 轉成 時間\n",
    "from datetime import datetime\n",
    "\n",
    "headers = {\n",
    "    'user-agent': 'Mozilla/5.0 (Windows NT 6.1; Win64; x64) AppleWebKit/537.36 (KHTML, like Gecko) Chrome/83.0.4103.116 Safari/537.36'\n",
    "    , 'content-type': 'application/json'\n",
    "}\n",
    "r = requests.get('https://www.zhihu.com/api/v4/questions/55493026/answers', headers=headers)\n",
    "#response = r.text\n",
    "#print(response)\n",
    "\n",
    "Data = json.loads(r.text)\n",
    "question_time = (Data['data'][0]['question']['created'])\n",
    "\n",
    "print(question_time)\n",
    "\n",
    "question_time_date = datetime.fromtimestamp(question_time)\n",
    "print(question_time_date)"
   ]
  },
  {
   "cell_type": "markdown",
   "metadata": {},
   "source": [
    "### 2. 取出第一筆與最後一筆回答的時間"
   ]
  },
  {
   "cell_type": "code",
   "execution_count": 13,
   "metadata": {},
   "outputs": [
    {
     "name": "stdout",
     "output_type": "stream",
     "text": [
      "1554085028\n",
      "2019-04-01 10:17:08\n",
      "1585227854\n",
      "2020-03-26 21:04:14\n"
     ]
    }
   ],
   "source": [
    "# 2. 取出第一筆與最後一筆回答的時間\n",
    "\n",
    "first_answer_time = Data[\"data\"][0][\"created_time\"]\n",
    "first_answer_time_date = datetime.fromtimestamp(first_answer_time)\n",
    "print(first_answer_time)\n",
    "print(first_answer_time_date)\n",
    "\n",
    "latest = 0\n",
    "for row in Data['data']:\n",
    "    if row['created_time'] > latest:\n",
    "        latest_answer_time = row['created_time']\n",
    "        latest = latest_answer_time\n",
    "        \n",
    "#latest_answer_time = Data[\"data\"][len(Data)][\"created_time\"]\n",
    "latest_answer_time_date = datetime.fromtimestamp(latest_answer_time)\n",
    "print(latest_answer_time)\n",
    "print(latest_answer_time_date)"
   ]
  },
  {
   "cell_type": "code",
   "execution_count": null,
   "metadata": {},
   "outputs": [],
   "source": []
  },
  {
   "cell_type": "code",
   "execution_count": null,
   "metadata": {},
   "outputs": [],
   "source": []
  },
  {
   "cell_type": "code",
   "execution_count": null,
   "metadata": {},
   "outputs": [],
   "source": []
  }
 ],
 "metadata": {
  "kernelspec": {
   "display_name": "Python 3",
   "language": "python",
   "name": "python3"
  },
  "language_info": {
   "codemirror_mode": {
    "name": "ipython",
    "version": 3
   },
   "file_extension": ".py",
   "mimetype": "text/x-python",
   "name": "python",
   "nbconvert_exporter": "python",
   "pygments_lexer": "ipython3",
   "version": "3.7.6"
  }
 },
 "nbformat": 4,
 "nbformat_minor": 2
}

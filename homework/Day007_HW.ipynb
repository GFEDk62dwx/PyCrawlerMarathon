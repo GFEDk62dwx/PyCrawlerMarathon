{
 "cells": [
  {
   "cell_type": "markdown",
   "metadata": {},
   "source": [
    "# HTTP 靜態網頁架構說明\n",
    "\n",
    "* 認識靜態網頁的溝通架構與運作原理\n",
    "* HTML、CSS、JavaScript 在網頁中扮演的角色\n",
    "* 網頁中定位資料的方法"
   ]
  },
  {
   "cell_type": "markdown",
   "metadata": {},
   "source": [
    "## 作業目標\n",
    "\n",
    "1. （簡答題）請問目前提到的這種基於 HTTP 一來一回的網頁傳輸方式，有哪些缺點及問題？\n",
    "2. （簡答題）網頁中使用的 JavaScipt 程式語言，跟我們一般使用的 Python 在執行上有什麼不同。\n"
   ]
  },
  {
   "cell_type": "markdown",
   "metadata": {},
   "source": [
    "### 1.（簡答題）請問目前提到的這種基於 HTTP 一來一回的網頁傳輸方式，有哪些缺點及問題？"
   ]
  },
  {
   "cell_type": "code",
   "execution_count": 1,
   "metadata": {},
   "outputs": [
    {
     "data": {
      "text/plain": [
       "'\\n目前基於http協議傳輸的主要有http協議 和基於http協議的Soap協議(web service),\\n常見的方式是 http 的post 和get 請求,web 服務。\\n\\n基於http協議的傳輸特點\\n優點:\\n1) 基於應用級的介面使用方便\\n2) 程式設計師開發水平要求不高,容錯性強\\n\\n缺點:\\n1) 傳輸速度慢,資料包大(Http協議中包含輔助應用資訊)\\n2) 如實時互動,伺服器效能壓力大。\\n3) 資料傳輸安全性差\\n\\nhttps://www.itread01.com/p/1365273.html\\n'"
      ]
     },
     "execution_count": 1,
     "metadata": {},
     "output_type": "execute_result"
    }
   ],
   "source": [
    "'''\n",
    "目前基於http協議傳輸的主要有http協議 和基於http協議的Soap協議(web service),\n",
    "常見的方式是 http 的post 和get 請求,web 服務。\n",
    "\n",
    "基於http協議的傳輸特點\n",
    "優點:\n",
    "1) 基於應用級的介面使用方便\n",
    "2) 程式設計師開發水平要求不高,容錯性強\n",
    "\n",
    "缺點:\n",
    "1) 傳輸速度慢,資料包大(Http協議中包含輔助應用資訊)\n",
    "2) 如實時互動,伺服器效能壓力大。\n",
    "3) 資料傳輸安全性差\n",
    "\n",
    "https://www.itread01.com/p/1365273.html\n",
    "'''"
   ]
  },
  {
   "cell_type": "markdown",
   "metadata": {},
   "source": [
    "### 2. （簡答題）網頁中使用的 JavaScipt 程式語言，跟我們一般使用的 Python 在執行上有什麼不同。"
   ]
  },
  {
   "cell_type": "code",
   "execution_count": 2,
   "metadata": {},
   "outputs": [
    {
     "data": {
      "text/plain": [
       "'\\nPython和Javascript都是指令碼語言，所以它們有很多共同的特性，\\n1.都需要直譯器來執行\\n2.都是動態型別\\n3.都支援自動記憶體管理,\\n4.都可以呼叫eval（）來執行指令碼等等指令碼語言所共有的特性。\\n\\n然而它們也有很大的區別，\\nJavascript這設計之初是一種客戶端的指令碼語言，主要應用於瀏覽器，它的語法主要借鑑了C，\\n而Python由於其“優雅”，“明確”，“簡單”的設計而廣受歡迎，被應用於教育，科學計算，web開發等不同的場景中。\\n\\n不同的地方\\n1.多執行緒\\n在Javascript的世界中是沒有多執行緒的概念的，\\n併發使用過使用事件驅動的方式來進行的，\\n所有的JavaScript程式都執行在一個執行緒中。\\n在HTML5中引入web worker可以併發的處理任務，\\n但沒有改變Javascript單執行緒的限制。\\n\\nPython通過thread包支援多執行緒。\\n\\n2.不可改變型別\\n在Python中，有的資料型別是不可改變的，\\n也就意味著這種型別的資料不能被修改，\\n所有的修改都會返回新的物件。\\n\\n而在Javascript中所有的資料型別都是可以改變的。\\n\\n3.自動型別轉換\\n當操作不同型別一起進行運算的時候，\\nJavascript總是儘可能的進行自動的型別轉換，這很方便，當然也很容易出錯。\\n尤其是在進行數值和字串操作的時候，一不小心就會出錯。\\n當你一不小心把一個字串加到數值上的時候，\\nJavascript會自動轉換出一個數值，往往是NaN，\\n這樣SVG就完全畫不出來啦，因為自動轉化是合法的，找到出錯的地方也非常困難。\\n\\nPython在這一點上就非常的謹慎，一般不會在不同的型別之間做自動的轉換。\\n'"
      ]
     },
     "execution_count": 2,
     "metadata": {},
     "output_type": "execute_result"
    }
   ],
   "source": [
    "'''\n",
    "Python和Javascript都是指令碼語言，所以它們有很多共同的特性，\n",
    "1.都需要直譯器來執行\n",
    "2.都是動態型別\n",
    "3.都支援自動記憶體管理,\n",
    "4.都可以呼叫eval（）來執行指令碼等等指令碼語言所共有的特性。\n",
    "\n",
    "然而它們也有很大的區別，\n",
    "Javascript這設計之初是一種客戶端的指令碼語言，主要應用於瀏覽器，它的語法主要借鑑了C，\n",
    "而Python由於其“優雅”，“明確”，“簡單”的設計而廣受歡迎，被應用於教育，科學計算，web開發等不同的場景中。\n",
    "\n",
    "不同的地方\n",
    "1.多執行緒\n",
    "在Javascript的世界中是沒有多執行緒的概念的，\n",
    "併發使用過使用事件驅動的方式來進行的，\n",
    "所有的JavaScript程式都執行在一個執行緒中。\n",
    "在HTML5中引入web worker可以併發的處理任務，\n",
    "但沒有改變Javascript單執行緒的限制。\n",
    "\n",
    "Python通過thread包支援多執行緒。\n",
    "\n",
    "2.不可改變型別\n",
    "在Python中，有的資料型別是不可改變的，\n",
    "也就意味著這種型別的資料不能被修改，\n",
    "所有的修改都會返回新的物件。\n",
    "\n",
    "而在Javascript中所有的資料型別都是可以改變的。\n",
    "\n",
    "3.自動型別轉換\n",
    "當操作不同型別一起進行運算的時候，\n",
    "Javascript總是儘可能的進行自動的型別轉換，這很方便，當然也很容易出錯。\n",
    "尤其是在進行數值和字串操作的時候，一不小心就會出錯。\n",
    "當你一不小心把一個字串加到數值上的時候，\n",
    "Javascript會自動轉換出一個數值，往往是NaN，\n",
    "這樣SVG就完全畫不出來啦，因為自動轉化是合法的，找到出錯的地方也非常困難。\n",
    "\n",
    "Python在這一點上就非常的謹慎，一般不會在不同的型別之間做自動的轉換。\n",
    "\n",
    "https://codertw.com/%E7%A8%8B%E5%BC%8F%E8%AA%9E%E8%A8%80/15815/\n",
    "'''"
   ]
  },
  {
   "cell_type": "code",
   "execution_count": null,
   "metadata": {},
   "outputs": [],
   "source": []
  }
 ],
 "metadata": {
  "kernelspec": {
   "display_name": "Python 3",
   "language": "python",
   "name": "python3"
  },
  "language_info": {
   "codemirror_mode": {
    "name": "ipython",
    "version": 3
   },
   "file_extension": ".py",
   "mimetype": "text/x-python",
   "name": "python",
   "nbconvert_exporter": "python",
   "pygments_lexer": "ipython3",
   "version": "3.7.6"
  }
 },
 "nbformat": 4,
 "nbformat_minor": 2
}
